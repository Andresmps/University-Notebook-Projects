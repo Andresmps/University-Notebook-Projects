{
 "cells": [
  {
   "cell_type": "markdown",
   "metadata": {},
   "source": [
    "# Primality testing\n",
    "-----------------------------------------\n",
    "We want to know whether a given integer is prime or not."
   ]
  },
  {
   "cell_type": "markdown",
   "metadata": {},
   "source": [
    "## Modules"
   ]
  },
  {
   "cell_type": "code",
   "execution_count": 4,
   "metadata": {},
   "outputs": [],
   "source": [
    "import numpy as np\n",
    "import math as m"
   ]
  },
  {
   "cell_type": "markdown",
   "metadata": {},
   "source": [
    "### Definition 1: Ring\n",
    "A ring is a triplet $(A, +, \\cdot)$, where $A$ is a set, and $(+, \\cdot)$ are  binary operatios in $A$ where:  \n",
    "1. $(A, +)$ is an abelian group.\n",
    "2. $A$ is close under $\\cdot$. \n",
    "3. $(A, \\cdot)$ is asociative.\n",
    "4. $(A, \\cdot)$ is disributive with respect to $(A, +)$.\n",
    "\n"
   ]
  },
  {
   "cell_type": "markdown",
   "metadata": {},
   "source": [
    "### Definition 2: Prime number  \n",
    "An integer $N \\in \\mathbb{N}_{\\geq2}$ is a prime number if $N | ab$ implies $N | a$ or $N | b$, or, equivalently, if $ab = N$ implies that $a \\in {\\pm 1}$ or $b \\in {\\pm 1}$, for all $a, b \\in \\mathbb{Z}$."
   ]
  },
  {
   "cell_type": "markdown",
   "metadata": {},
   "source": [
    "### Definition 3: Coprime integers\n",
    "Let $a, b \\in \\mathbb{Z}$ such that $gcd(a, b) = 1$ the they are called coprimes.\n"
   ]
  },
  {
   "cell_type": "markdown",
   "metadata": {},
   "source": [
    "### Definition 4: Euler's totient funtion\n",
    "Euler's totient funtion counts the positive integers up to a given integer $n$ that are relatively prime to $n$. It is written as\n",
    "$$\\varphi(n)$$\n"
   ]
  },
  {
   "cell_type": "markdown",
   "metadata": {},
   "source": [
    "### Definition 5: Coset\n",
    "Let $g \\in G$ and a sobgroup $H$ of $G$. The left and right cosets are define as follows:\n",
    "$$gH = \\{gh : h \\in H\\}$$\n",
    "$$Hg = \\{hg : h \\in H\\}$$"
   ]
  },
  {
   "cell_type": "markdown",
   "metadata": {},
   "source": [
    "### Definition 6: Index of a group\n",
    "It's the number of the cosets of a subgroup $H$ in a group $G$. It's written as\n",
    "$$|G:H|$$"
   ]
  },
  {
   "cell_type": "markdown",
   "metadata": {},
   "source": [
    "### Definition 7: Order de un número\n",
    "The order of $a$ mod $N$ is the smallest integer $k>1$ such that $a^k \\equiv 1 \\mod N$. It is written as $ord_N(a)$."
   ]
  },
  {
   "cell_type": "markdown",
   "metadata": {},
   "source": [
    "### Definition 8: Equivalence relation\n",
    "An equivalence relation on $G$ is a relation that satisfy the following properties: reflexive, symmetric and transitive. That is, for all $a, b$ and $c \\in G$  \n",
    "1. $aRa$\n",
    "2. If $aRb$ then $bRa$\n",
    "3. If $aRb \\wedge bRc$ then $aRc$\n"
   ]
  },
  {
   "cell_type": "markdown",
   "metadata": {},
   "source": [
    "### Theorem 1:\n",
    "For a group $G$ and a subgroup $H$ of $G$ the relation $\\sim_{H}$ define as $$x \\sim_{H} y \\Leftrightarrow x^{-1}y \\in H$$ is an equivalence relation.  \n",
    "\n",
    "**Proof**  \n",
    "For all$a, b, c \\in G$ we have the following\n",
    "1. $a \\sim_{H} a$ since $a*a^{-1} = I_{G} \\in H$\n",
    "2. If $a \\sim_{H} b$ then $a*b^{-1} \\in H \\rightarrow (b*a^{-1})^{-1} \\in H \\rightarrow b*a^{-1} \\in H \\rightarrow b \\sim_{H} a$\n",
    "3. If $a \\sim_{H} b$ and $b \\sim_{H} c$ then $a*b^{-1}, b*c^{-1} \\in H \\rightarrow a*b^{-1}, (b^{-1}*c)^{-1} \\in H $  \n",
    "$\\rightarrow a*b^{-1}, b^{-1}*c \\in H \\rightarrow a*b^{-1}, (b^{-1}*c)^{-1} \\in H$\n",
    "\n",
    "Therefore, $\\sim_{H}$ is an equivalence relation."
   ]
  },
  {
   "cell_type": "markdown",
   "metadata": {},
   "source": [
    "### Theorem 2: Lagrange Theorem\n",
    "If $G$ is a finite group and $H$ a subgroup of $G$, then\n",
    "$$|G| = |H||G:H|$$\n",
    "where $|G|$ and $|H|$ are the order of $G$ and $H$, and $[G:H]$ is the index of $H$ in $G$.\n",
    "\n",
    "**Proof**  \n",
    "Consider the equivalence relation ~$_{H}$ proven in the **Theorem 1**. \n",
    "Let's take the left coset $gH$ as the equivalence class of $g$ under the relation $\\sim_{H}$. Since $G$ is partitioned into $[G:H]$ distinct left cosets then $|G| = \\sum_{k=1}^{[G:H]}|g_kH|$. Finally, because of all left cosets have a cardinality equal to $|H|$ then it follows that $|G| = [G:H]|H|$."
   ]
  },
  {
   "cell_type": "markdown",
   "metadata": {},
   "source": [
    "### Corollary 1:\n",
    "Suppose that $G$ is a finite group and $g \\in G$. Then the order of $g$ must divide the number of elements in $G$."
   ]
  },
  {
   "cell_type": "markdown",
   "metadata": {},
   "source": [
    "### Theorem 3: Euler's Theorem\n",
    "If $a$ and $n$ are positive integer such that $p$ and $a$ are coprime then $$a^{\\varphi(n)} \\equiv 1 \\mod n$$\n",
    "\n",
    "**Proof**  \n",
    "Consider the group $(G, \\otimes)$, where $G=\\{a \\mod n \\in \\mathbb{Z_n}: gcd(a, n) = 1\\}$ and $\\otimes$  is the multiplicative operation under the module $n$.   \n",
    "Now, let $a$ be between $1$ and $\\varphi(n)$, that is, an element of $G$, and $k$ the order of $a$. Then, we have the following $$a^k \\equiv 1 \\mod n$$  \n",
    "Hence, by the Lagrange theorem, k divide the order of $G$, that is, $\\varphi(n) = km$ for any integer $m$. Then $$a^{\\varphi(n)} \\equiv a^{km} \\equiv (a^k)^m \\equiv 1^m \\equiv 1 \\mod n$$"
   ]
  },
  {
   "cell_type": "markdown",
   "metadata": {},
   "source": [
    "### Theorem 4: Fermat's Little Theorem\n",
    "If $p$ is prime and $a$ is a positive integer such that $p$ and $a$ are coprime then $$a^{p-1} \\equiv 1 \\mod p$$\n",
    "\n",
    "**Proof**  \n",
    "By euler's theorem we have that $$a^{\\varphi(p)} \\equiv 1 \\mod p$$\n",
    "Since, $p$ is a prime number we have that $\\varphi(p) = p-1$.  \n",
    "Therefore, $$a^{p-1} \\equiv 1 \\mod p$$"
   ]
  },
  {
   "cell_type": "markdown",
   "metadata": {},
   "source": [
    "### Definition 9: Mersenne number\n",
    "It is a positive integer number $M_n$ define as follows\n",
    "$$M_n = 2^n -1$$"
   ]
  },
  {
   "cell_type": "markdown",
   "metadata": {},
   "source": [
    "#### Note\n",
    "The largest known prime is a Mersenne number, it was discovered on 23 August 2008. It is $M_{43112609}$"
   ]
  },
  {
   "cell_type": "markdown",
   "metadata": {},
   "source": [
    "### Theorem 10: Fermat's numbers\n",
    "Fermat's numbers are define as \n",
    "$$F_n = 2^{2^n} + 1$$\n",
    "where $n \\in \\mathbb{N}$"
   ]
  },
  {
   "cell_type": "markdown",
   "metadata": {},
   "source": [
    "#### Note \n",
    "Pierre Fermat conjectured in August 1640 that all Fermat's numbers are prime, while he communicated his famous “little” theorem in a letter dated 18 October 1640. However, $3^{2^{32}} \\equiv 1461798105 \\not \\equiv 1 \\mod 2^{32} + 1$; therefore, by Fermat’s little theorem, Fermat’s conjecture is false :c. "
   ]
  },
  {
   "cell_type": "markdown",
   "metadata": {},
   "source": [
    "### Definition 11: Mersenne prime number\n",
    "It is a mersenne number that is also prime."
   ]
  },
  {
   "cell_type": "markdown",
   "metadata": {},
   "source": [
    "## Theorem 11: FUNDAMENTAL THEOREM OF ARTIHMETIC  \n",
    "Every positive integer can be writing as a product of positive prime factors."
   ]
  },
  {
   "cell_type": "markdown",
   "metadata": {},
   "source": [
    "### Theorem 12: Chinese remainder theorem\n",
    "Let $n_1, ..., n_k$ be integers greater that 1. Let us define $N =\\prod_{i = 1}^{k} n_i$.\n",
    "\n",
    "The chinese remainder theorem asserts that if the $n_i$ are pairwise coprime, and if $a_1, ..., a_k$ are integers such that $0 \\leq a_i \\leq n_i$ for every $i$, then there is one and only one integer $x$, such that $0 \\leq x \\leq N$ and $x \\equiv a_i \\mod n_i$ for all $i$.\n"
   ]
  },
  {
   "cell_type": "markdown",
   "metadata": {},
   "source": [
    "### Lemma 18.1\n",
    "Let $N \\in \\mathbb{N_ {\\geq2}}$.\n",
    "1. If $a\\in \\mathbb{Z}$ is coprime to $N$ and $k \\in \\mathbb{N}$ with $a^k \\equiv 1 \\mod N$, then $ord_N(a)$ divides $k$. In particular $ord_N(a)$ divides $\\varphi(N)$.\n",
    "2. If $p$ is prime, $e \\in \\mathbb{N}_{\\geq 2}$, $N = p^e$ and $a=1+p^{e-1}$, then $ord_N(a) = p$.\n",
    "\n",
    "**Proof**  \n",
    "1. Let $e = ord_N(a)$ and divide $k$ by $e$ with remainder: $k = qe+r$ with $0 \\leq r \\leq e$. Then $a^r = a^{k-qe} = a^k \\cdot (a^e)^{-q} = 1 \\cdot (1)^{-q} \\equiv 1 \\mod N$. Hence, since $e > r$ then the only way $a^{r} \\equiv 1 \\mod N$ is that $r=0$.  \n",
    "By Euler's theorem, we have $a^{\\varphi(N)} \\equiv 1 \\mod N$, since $ord_N(a)$ divides all $k$ then in particular it divides $k = \\varphi(N)$.  \n",
    "\n",
    "2. We have $a^p \\equiv \\sum_{0 \\leq i \\leq p} \\binom{p}{i} p^{(e-1)i} \\equiv 1 mod p^e$ by a property of congruency. By (1), $ord_N(a)$ is either 1 or $p$, and since $a \\not \\equiv 1 \\mod N$, the claim follows. "
   ]
  },
  {
   "cell_type": "markdown",
   "metadata": {},
   "source": [
    "## Algorithms"
   ]
  },
  {
   "cell_type": "markdown",
   "metadata": {},
   "source": [
    "Here we are going to star by the usual testing algorithm."
   ]
  },
  {
   "cell_type": "markdown",
   "metadata": {},
   "source": [
    "### ALGORITHM Testing whether is primer or not\n",
    "--------------------------------------------------\n",
    "**Input:** $N \\in Z^{+}$.  \n",
    "**Output:** True if it's **prime** else False.  \n",
    "1. **for** $i = 2, 1, ..., \\sqrt{N}+1$ **do**   \n",
    " $\\ \\ \\ \\ \\ $ **if** $i | N$ **return** False\n",
    "2. **else** **return** True\n",
    "--------------------------------------------------\n",
    "**O( $\\sqrt{N}$)**"
   ]
  },
  {
   "cell_type": "code",
   "execution_count": 5,
   "metadata": {},
   "outputs": [],
   "source": [
    "def usual_test(N):\n",
    "    for i in range(2, int(m.sqrt(N))+1):\n",
    "        if(N % i == 0):\n",
    "            return False\n",
    "    return True"
   ]
  },
  {
   "cell_type": "code",
   "execution_count": 101,
   "metadata": {},
   "outputs": [
    {
     "name": "stdout",
     "output_type": "stream",
     "text": [
      "3, 5, 7, 11, 13, 17, 19, 23, 29, 31, 37, 41, 43, 47, 53, 59, 61, 67, 71, 73, 79, 83, 89, 97, "
     ]
    }
   ],
   "source": [
    "for i in range(3, 100, 2):\n",
    "    if usual_test(i):\n",
    "        print(i, end=', ')\n",
    "#     print(f\"[{i}] is prime? : {usual_test(i)}\")"
   ]
  },
  {
   "cell_type": "markdown",
   "metadata": {},
   "source": [
    "It works pretty well, but as you could notice the running time of the algorithm grows along with the value of $N$"
   ]
  },
  {
   "cell_type": "markdown",
   "metadata": {},
   "source": [
    "Here it's a more general approach to the above solution for cases that you want to know if more than one number is prime."
   ]
  },
  {
   "cell_type": "markdown",
   "metadata": {},
   "source": [
    "### ALGORITHM Get primes with the sieve of Eratosthenes\n",
    "--------------------------------------------------\n",
    "**Input:** $n \\in Z^{+}$.\n",
    "**Output:** All prime numbers less than $n$.  \n",
    "1. Let be $mark_i \\leftarrow False$, $primes_i \\leftarrow 0$ for all $i \\in \\{0, n\\}$ and $c = 0$.\n",
    "2. **for** $i = 2, 3, 4, ..., n$ **do**  \n",
    "   $\\ \\ \\ \\ \\ \\ $ **if** $mark[i] = True$ **then** **i** is **composite**   \n",
    "   $\\ \\ \\ \\ \\ \\ $ **else**   \n",
    "   $\\ \\ \\ \\ \\ \\ $ $\\ \\ \\ \\ \\ \\ $ **i** is **prime**  \n",
    "   $\\ \\ \\ \\ \\ \\ $ $\\ \\ \\ \\ \\ \\ $ $primes_c = i$, $c +=1$, $j=2*i$  \n",
    "   $\\ \\ \\ \\ \\ \\ $ $\\ \\ \\ \\ \\ \\ $ **while** $j <= n$ **do**   \n",
    "   $\\ \\ \\ \\ \\ \\ $ $\\ \\ \\ \\ \\ \\ $ $\\ \\ \\ \\ \\ \\ $ $mark[j]$ $\\leftarrow$ True, $j+=i$ \n",
    "3. **return** $primes$\n",
    "--------------------------------------------------\n",
    "**O( n * H(n) )**"
   ]
  },
  {
   "cell_type": "markdown",
   "metadata": {},
   "source": [
    "### Harmonic number\n",
    "The n-th harmonic number is the sum of the reciprocals of the first n natural numbers\n",
    "$$H_n := 1 + \\frac{1}{2} + \\frac{1}{3} + ... + + \\frac{1}{n} = \\sum_{k=1}^{n} + \\frac{1}{k}$$"
   ]
  },
  {
   "cell_type": "code",
   "execution_count": 8,
   "metadata": {},
   "outputs": [],
   "source": [
    "def get_primes(n):\n",
    "    primes = list()\n",
    "    mark = [False]*n\n",
    "\n",
    "    for i in range(2, n):\n",
    "        if(mark[i]): continue\n",
    "        primes.append(i)\n",
    "        \n",
    "        for j in range(2*i, n, i):\n",
    "            mark[j] = True\n",
    "    return primes"
   ]
  },
  {
   "cell_type": "code",
   "execution_count": 9,
   "metadata": {},
   "outputs": [],
   "source": [
    "primes = get_primes(10**6)"
   ]
  },
  {
   "cell_type": "markdown",
   "metadata": {},
   "source": [
    "However, we are looking for a faster algorithm to test primality.  \n",
    "\n",
    "For this, first I am going to present you all two previous algorithms. Those are Eucludes' algorithm to find the greatest common divisor of two number."
   ]
  },
  {
   "cell_type": "markdown",
   "metadata": {},
   "source": [
    "### ALGORITHM Greatest Common DIvisor\n",
    "--------------------------------------------------\n",
    "**Input:** $a, b \\in Z^{+}$ con $a>b$.\n",
    "**Output:** $gcd(a, b)$.  \n",
    "1. **if**(b = 0) **then** return a.\n",
    "2. **else** **return** $gcd(b, a \\ rem \\ b)$\n",
    "--------------------------------------------------\n",
    "**O( loglog(b) )**  \n",
    "__O(log(b))__\n",
    "[Explanation](https://seriesdivergentes.wordpress.com/2010/02/03/gabriel-lame/)"
   ]
  },
  {
   "cell_type": "code",
   "execution_count": 10,
   "metadata": {},
   "outputs": [],
   "source": [
    "def gcd(a, b):\n",
    "    if(a < b):\n",
    "        return gcd(b, a)\n",
    "    elif(b == 0):\n",
    "        return a\n",
    "    return gcd(b, a%b)"
   ]
  },
  {
   "cell_type": "markdown",
   "metadata": {},
   "source": [
    "And repeated squaring which will help us to do a more efficient exponentiation."
   ]
  },
  {
   "cell_type": "markdown",
   "metadata": {},
   "source": [
    "### ALGORITHM 4.8 Repeated squaring\n",
    "--------------------------------------------------  \n",
    "**Page 91**  \n",
    "**Input:** $a \\in R$ where $R$ is a ring with 1, and $n \\in \\mathbb{N}_{>0}$.  \n",
    "**Output:** $a^n \\in R$.  \n",
    "1. { binary representation of n }  \n",
    "write $n=2^k + n_{k-1} \\cdot 2^{k-1} + ... + n_1 \\cdot 2 + n_0$, with all $n_i \\in \\{0, 1\\}$  \n",
    "$b_k \\leftarrow a$\n",
    "2. **for** $i = k-1, k-2, ..., 0$ **do**  \n",
    "   $\\ \\ \\ \\ \\ \\ $ **if** ($n_i = 1$) **then** $b_i \\leftarrow b_{i+1}^2 a$   \n",
    "   $\\ \\ \\ \\ \\ \\ $  **else** $b_i \\leftarrow b_{i+1}^2$\n",
    "3. **return** $b_0$\n",
    "--------------------------------------------------\n",
    "**O( $log_{2}(n)$))** "
   ]
  },
  {
   "cell_type": "code",
   "execution_count": 11,
   "metadata": {},
   "outputs": [],
   "source": [
    "def reapet_squared(a, n, mod):\n",
    "    binary_n = bin(n)[2:][::-1]\n",
    "    k = len(binary_n)\n",
    "    b = [0]*(k)\n",
    "\n",
    "    b[k-1] = a\n",
    "    for i in range(k-2, -1, -1):\n",
    "        if(binary_n[i] == '1'):\n",
    "            b[i] = (b[i+1]**2 * a) % mod  \n",
    "        else:\n",
    "            b[i] = b[i+1]**2 % mod\n",
    "\n",
    "    return b[0]\n"
   ]
  },
  {
   "cell_type": "code",
   "execution_count": 167,
   "metadata": {},
   "outputs": [
    {
     "data": {
      "text/plain": [
       "10"
      ]
     },
     "execution_count": 167,
     "metadata": {},
     "output_type": "execute_result"
    }
   ],
   "source": [
    "reapet_squared(28, 5, 17)"
   ]
  },
  {
   "cell_type": "code",
   "execution_count": 168,
   "metadata": {},
   "outputs": [
    {
     "data": {
      "text/plain": [
       "10"
      ]
     },
     "execution_count": 168,
     "metadata": {},
     "output_type": "execute_result"
    }
   ],
   "source": [
    "(28**5) % 17"
   ]
  },
  {
   "cell_type": "markdown",
   "metadata": {},
   "source": [
    "Now start the fun part, here there is a probabilistic algorithm that test whether a number is prime or not."
   ]
  },
  {
   "cell_type": "markdown",
   "metadata": {},
   "source": [
    "### ALGORITHM 18.2 Fermat test\n",
    "-------------------------------------------\n",
    "**Page 535**  \n",
    "**Input:** An odd integer $N \\geq5$.  \n",
    "**Output:** Either \"composite\" or \"possibly prime\".  \n",
    "1. choose $a \\in \\{2, ..., N-2\\}$ uniformly at random.  \n",
    "2. call the reapeted squaring algorithm 4.8 to compute $b=a^{N-1}$ rem $N$.\n",
    "3. **if** $b \\neq 1$ **then** **return** \"composite\" **else return** \"possibly prime\".\n",
    "--------------------------------------------\n",
    "**O($log_2(N)$)**"
   ]
  },
  {
   "cell_type": "code",
   "execution_count": 14,
   "metadata": {},
   "outputs": [
    {
     "data": {
      "text/html": [
       "<img src=\"https://drive.google.com/uc?export=download&id=1BwU4zXyj7cQVTtxgMjlvBd7F3wZdH_Mo\">\n"
      ],
      "text/plain": [
       "<IPython.core.display.HTML object>"
      ]
     },
     "metadata": {},
     "output_type": "display_data"
    }
   ],
   "source": [
    "%%html\n",
    "<img src=\"https://drive.google.com/uc?export=download&id=1BwU4zXyj7cQVTtxgMjlvBd7F3wZdH_Mo\">"
   ]
  },
  {
   "cell_type": "code",
   "execution_count": 15,
   "metadata": {},
   "outputs": [],
   "source": [
    "def fermat_test(N):\n",
    "    a = np.random.randint(N-2) + 2 \n",
    "    b = reapet_squared(a, N-1, N)\n",
    "    return \"composite\" if(b != 1) else \"possibly prime\""
   ]
  },
  {
   "cell_type": "markdown",
   "metadata": {},
   "source": [
    "This algorithm predict 100% composite numbers, but when it predict a prime number could be right or wrong."
   ]
  },
  {
   "cell_type": "markdown",
   "metadata": {},
   "source": [
    "### Definition 12: Fermat witness\n",
    "If for any $1 < a < p-1$, and $n$ composite, $a$ holds the following\n",
    "$$a^{n-1} \\not\\equiv 1 \\mod n$$\n",
    "then $a$ is known as a Fermat witness"
   ]
  },
  {
   "cell_type": "markdown",
   "metadata": {},
   "source": [
    "### Definition 13: Fermat Liar\n",
    "If for any $1 < a < p-1$, and $n$ composite, $a$ holds the following\n",
    "$$a^{n-1} \\equiv 1 \\mod n$$\n",
    "then $a$ is known as a Fermat liar"
   ]
  },
  {
   "cell_type": "code",
   "execution_count": 16,
   "metadata": {},
   "outputs": [
    {
     "data": {
      "text/html": [
       "<img src=\"https://drive.google.com/uc?export=download&id=1vyefmuBN0hXNQKOS2iZLbua9pQiCfUIB\">\n"
      ],
      "text/plain": [
       "<IPython.core.display.HTML object>"
      ]
     },
     "metadata": {},
     "output_type": "display_data"
    }
   ],
   "source": [
    "%%html\n",
    "<img src=\"https://drive.google.com/uc?export=download&id=1vyefmuBN0hXNQKOS2iZLbua9pQiCfUIB\">\n"
   ]
  },
  {
   "cell_type": "markdown",
   "metadata": {},
   "source": [
    "This is because there are number that fulfill fermat test without being primes. Those are called Fermat Liars (FOOLS).  \n",
    "Consider the following groups:\n",
    "\n",
    "$$\\mathbb{Z_{N}^{\\times}} = \\{a \\mod N \\in \\mathbb{Z_N}: gcd(a, N) =1\\}$$ \n",
    "\n",
    "$$L_N = \\{u \\in \\mathbb{Z_{N}^{\\times}}: u^{N-1} = 1\\}$$ \n",
    "\n",
    "See that if $N$ is prime $L_N = Z_{N}^{\\times}$, otherwise, that is $L_N \\neq Z_{N}^{\\times}$, $|L_N| \\leq \\frac{1}{2}|Z_{N}^{\\times}|$, because of Lagrange theorem."
   ]
  },
  {
   "cell_type": "markdown",
   "metadata": {},
   "source": [
    "So, if we run the test $t$ times then $|L_N| \\leq \\frac{1}{2^t}|Z_{N}^{\\times}|$, that is the more we repeat the process, the better results we will obtain."
   ]
  },
  {
   "cell_type": "markdown",
   "metadata": {},
   "source": [
    "### Theorem 18.3\n",
    "If N is prime, then the Fermat test 18.2 return \"possibly prime\". If $N$ is composite and not a Carmichael number, then it returns \"composite\" with a probability at least $1/2$ The algorithm uses O($log_2 N \\cdot M(log_2 N)$)\n",
    "\n",
    "**Proof**  \n",
    "If $gcd(a, N) \\neq 1$, then also $gcd(b, N) \\neq 1$, since $b$ is a power of $a$, and the test returns \"composite\", so that we only need to consider the cases where $a$ and $N$ are coprimes.  \n",
    "\n",
    "If $N$ is \"composite\" and not Carmichael, then $|L_N| \\leq \\varphi(N)/2 = \\frac{1}{2} \\mathbb{Z_{N}^{\\times}}$ by the Lagrange Theorem, so that at least half of the possible choices for $a$ in step 1 are Fermat witnesses.  \n",
    "\n",
    "Repeated squaring in step 2 takes O(log_2 N) multiplications, since it is base on the binary representation of N. Let M be the complexity of make a multiplication, then the upper bound of the running time is O($log_2 N \\cdot M(log_2 N)$.\n",
    "\n",
    "In $N$ is a Carmichael number then it could happen one of the above cases, so the complexity stays as O($log_2 N \\cdot M(log_2 N)$.\n",
    "\n"
   ]
  },
  {
   "cell_type": "code",
   "execution_count": 178,
   "metadata": {},
   "outputs": [
    {
     "name": "stdout",
     "output_type": "stream",
     "text": [
      "  Probability test \t   Prime number\n",
      "2 \t [5] \t\t\t [5] \n",
      "3 \t [7] \t\t\t [7] \n",
      "4 \t [11] \t\t\t [11] \n",
      "5 \t [13] \t\t\t [13] \n",
      "6 \t [17] \t\t\t [17] \n",
      "7 \t [19] \t\t\t [19] \n",
      "8 \t [23] \t\t\t [23] \n",
      "9 \t [25] \t\t\t [29] \n"
     ]
    }
   ],
   "source": [
    "c=2\n",
    "print(\"  Probability test \\t   Prime number\")\n",
    "for i in range(5, 10000, 2):\n",
    "    temp = fermat_test(i)\n",
    "    if(temp == \"possibly prime\"):\n",
    "        print(f'{c} \\t [{i}] \\t\\t\\t [{primes[c]}] ')\n",
    "        if(i != primes[c]): break\n",
    "        c+=1"
   ]
  },
  {
   "cell_type": "code",
   "execution_count": 171,
   "metadata": {},
   "outputs": [],
   "source": [
    "def fermat_test_k(n, k):\n",
    "    for i in range(k):\n",
    "        temp = fermat_test(n)\n",
    "        if(temp != \"possibly prime\"):\n",
    "            return False\n",
    "    else: \n",
    "        return True"
   ]
  },
  {
   "cell_type": "code",
   "execution_count": 181,
   "metadata": {},
   "outputs": [
    {
     "name": "stdout",
     "output_type": "stream",
     "text": [
      "It predict 408 primes correctly, and fails in p = 2833 : f = 2821\n"
     ]
    }
   ],
   "source": [
    "c=2\n",
    "\n",
    "for i in range(5, 10000000, 2):\n",
    "    temp = fermat_test_k(i, 10)\n",
    "    if(temp == True):\n",
    "#         print(f'{c} \\t [{i}] \\t\\t\\t [{primes[c]}] ')\n",
    "        if(i != primes[c]): break\n",
    "        c+=1\n",
    "print(f'It predict {c-2} primes correctly, and fails in p = {primes[c]} : f = {i}')"
   ]
  },
  {
   "cell_type": "code",
   "execution_count": 182,
   "metadata": {},
   "outputs": [
    {
     "data": {
      "text/plain": [
       "False"
      ]
     },
     "execution_count": 182,
     "metadata": {},
     "output_type": "execute_result"
    }
   ],
   "source": [
    "fermat_test_k(46657, 1000)"
   ]
  },
  {
   "cell_type": "markdown",
   "metadata": {},
   "source": [
    "Or at least if $N$ is not a Carmichael number."
   ]
  },
  {
   "cell_type": "markdown",
   "metadata": {},
   "source": [
    "### Definition 14: Carmichael number\n",
    "It is a composite number $n$ which satisfies the modular arithetic congruence relation:\n",
    "$$b^{n-1} \\equiv 1 \\mod n$$\n",
    "for all integers $b$ which are coprimes to $n$."
   ]
  },
  {
   "cell_type": "markdown",
   "metadata": {},
   "source": [
    "### Note\n",
    "1729 is the smallest number expressible as the sum of two cubes in two different ways.\n",
    "$$1729 = 1^3 + 12^3 = 9^3 + 10^3$$\n",
    "Do you think 1729 is a Carmichael number?"
   ]
  },
  {
   "cell_type": "markdown",
   "metadata": {},
   "source": [
    "So, we have to extend the idea of Fermat test to fix the problem with the Carmichael numbers. In this new algorithm we not only fix the problem of Carmichael numbers, but also returns a factor of it."
   ]
  },
  {
   "cell_type": "markdown",
   "metadata": {},
   "source": [
    "### Definition 15: Square-free integer\n",
    "It is an integre which is divisible by no perfect square other than 1. That is, its prime factorization has exactly one factor for each prime that appears in it."
   ]
  },
  {
   "cell_type": "markdown",
   "metadata": {},
   "source": [
    "### Lemma 18.4.\n",
    "Any Carmichael number is squarefree.\n",
    "\n",
    "**Proof**  \n",
    "We take a prime number $p$ and assume that it divides the Carmichael number $N$ exactly $e \\geq 2$ times. By the Chinese Remainder Theorem, there exists an $a \\in \\mathbb{Z}$ that is the solution of the system of congruences\n",
    "$$a \\equiv 1 + p^{e-1} \\mod p^e$$\n",
    "$$a \\equiv 1 \\mod N / p^e$$.\n",
    "\n",
    "Then $a$ has order $p$ modulo $p^e$, by Lemma 18.1, and hence also modulo $N$. Since $a^{N-1} \\equiv 1 \\mod N$ because $N$ is a Carmichael number, it follows that $p$ divides $N-1$, by Lemma 18.1. However, $p$ also divides $N$ $\\rightarrow \\leftarrow$."
   ]
  },
  {
   "cell_type": "markdown",
   "metadata": {},
   "source": [
    "### Exercise 18.9\n",
    "Let $N \\in \\mathbb{N_{>3}}$. Prove:\n",
    "1. If $N$ is a Carmichael number, then it has the property that $p − 1$ divides $N − 1$ for all prime divisors $p$ of $N$. Hint: CRT and Exercise 8.16.\n",
    "2. $N$ is prime or a Carmichael number if and only if it is squarefree and the property in (1) holds.\n",
    "3. A Carmichael number is odd and has at least three distinct prime divisors.\n",
    "4. Which of the following integers are Carmichael numbers: 561, 663, 867, 935, 1105, 1482, 1547, 1729, 2077, 2465, 2647, 2821, 172081? You may use the integer factoring routine of your\n",
    "favorite computer algebra system."
   ]
  },
  {
   "cell_type": "markdown",
   "metadata": {},
   "source": [
    "### Solution\n",
    "1. *By Lemma 18.4, we may assume that $N$ is squarefree. Let $p$ be a prime divisor of $N$ and $b\\in \\mathbb{Z}$ coprime to $p$ with $ord_p(b) = p-1$; such $b$ exist according to Exercise 8.16. By the Chinese Reainder Theorem 5.3, there exists an $a \\in \\mathbb{Z}$ such that $a \\equiv b \\mod p$ and $a \\equiv 1 \\mod N/p$. Then $gcd(a, N) = 1$ and  Lemma 18.1 implies that $p-1$ divides $N-1$.\n",
    "\n",
    "2. ($\\Rightarrow$) It holds from Lemma 18.4 and (1).  \n",
    "($\\Leftarrow$) Let $N$ be squarefree and have the property in (1), and let $a \\in Z_{N}^{\\times}$. Then $a^{p-1} \\equiv 1 \\mod p$, and hence $a^{N-1} \\equiv 1 \\mod p$, for all prime divisors $p$ pf $N$.Thus $a^{N-1} \\equiv 1 \\mod N$. \n",
    "\n",
    "3. If the Carmichael number $N$ were even, then, since it is squarefree by Lemma 18.4 and composite, it would have an odd prime divisor $p$, and the even number $p-1$ would divide the odd number $N-1 = pq-1$, by (1)  , and hence it also divides $(pq-1)-p(q-1) = p-1 < q-1$. $\\rightarrow \\leftarrow$\n"
   ]
  },
  {
   "cell_type": "code",
   "execution_count": 60,
   "metadata": {},
   "outputs": [],
   "source": [
    "def prime_factorization(n):\n",
    "    ls = list()\n",
    "    i=0\n",
    "    while n != 1:\n",
    "        if n % primes[i] == 0:\n",
    "            n //= primes[i] \n",
    "            ls.append(primes[i])\n",
    "        else:\n",
    "            i+=1\n",
    "    return ls\n",
    "\n",
    "def is_carmichael(n):\n",
    "    factors_n = prime_factorization(n)\n",
    "    if len(set(factors_n)) < 3:\n",
    "        print(factors_n)\n",
    "        return False\n",
    "    \n",
    "    c = 0\n",
    "    for fac in factors_n:\n",
    "        if  (n-1) % (fac-1) != 0:\n",
    "            print(fac-1, ' no divide a  ', n-1)\n",
    "            print(factors_n)\n",
    "            return False\n",
    "    return True"
   ]
  },
  {
   "cell_type": "markdown",
   "metadata": {},
   "source": [
    "4. The following number are Carmichael numbers\n",
    "$$561 = 3 \\cdot 11 \\cdot 17$$\n",
    "$$1105 = 5 \\cdot 13 \\cdot 17$$\n",
    "$$1729 = 7 \\cdot 13 \\cdot 19$$\n",
    "$$2465 = 5 \\cdot 17 \\cdot 29$$\n",
    "$$2821 = 7 \\cdot 13 \\cdot 31$$\n",
    "$$172081 = 7 \\cdot 13 \\cdot 31 \\cdot 61$$\n",
    "And the followings are not Carmichael numbers\n",
    "$$663 = 3 \\cdot 13 \\cdot 17, 13-1 \\not | 663-1$$\n",
    "$$867 = 3 \\cdot 17^2$$\n",
    "$$935 = 5 \\cdot 11 \\cdot 17, 11-1 \\not | 935-1$$\n",
    "$$1482 \\text{ is even}$$\n",
    "$$1547 = 7 \\cdot 13 \\cdot 17, 7-1 \\not | 1547-1$$\n",
    "$$2077 = 31 \\cdot 67$$\n",
    "$$2647 \\text{ is prime}$$"
   ]
  },
  {
   "cell_type": "code",
   "execution_count": 64,
   "metadata": {},
   "outputs": [
    {
     "name": "stdout",
     "output_type": "stream",
     "text": [
      "[3, 17, 17]\n"
     ]
    },
    {
     "data": {
      "text/plain": [
       "False"
      ]
     },
     "execution_count": 64,
     "metadata": {},
     "output_type": "execute_result"
    }
   ],
   "source": [
    "is_carmichael(867)"
   ]
  },
  {
   "cell_type": "markdown",
   "metadata": {},
   "source": [
    "## Lemma 2\n",
    "Let p be a prime, Then\n",
    "$$x^2 \\equiv 1 \\mod p$$\n",
    "if and only if $x \\equiv \\pm 1 \\mod p$\n",
    "\n",
    "**Proof**\n",
    "First notice that \n",
    "$$x^2 \\equiv 1 \\mod p $$\n",
    "$$\\Leftrightarrow (x+1)(x-1) \\equiv 0 \\mod p$$ \n",
    "$$\\Leftrightarrow p | (x+1)(x-1) $$\n",
    "$$\\Leftrightarrow p |(x+1) \\vee p | (x-1) $$ \n",
    "$$\\Leftrightarrow x+1 \\equiv 0 \\mod p \\vee x-1 \\equiv 0 \\mod p $$\n",
    "$$\\Leftrightarrow x \\equiv -1 \\mod p \\vee x \\equiv 1 \\mod p$$"
   ]
  },
  {
   "cell_type": "markdown",
   "metadata": {},
   "source": [
    "## ALGORITHM 18.5 Strong pseudoprimality test\n",
    "-------------------------------------------\n",
    "Page 535  \n",
    "**Input:** An odd integer $N \\geq 3$.  \n",
    "**Output:** Either \"composite\", or \"possibly prime\", or a proper factor of $N$.  \n",
    "1. choose $a \\in \\{2, ..., N-2\\}$ uniformly at random.\n",
    "2. $d \\leftarrow gcd(a N)$  \n",
    "$\\ \\ \\ \\ \\ \\ $ **if** $d > 1$ **then return** $d$  \n",
    "3. write $N-1 = 2^{v}m$ with $v, m \\in \\mathbb{N}$. $v \\geq 1$, and $m$ odd.  \n",
    "**call** the repeated squaring algorithm 4.8 to compute $b_0 = a^{m} \\ rem \\ N$  \n",
    "**if** $b_0 = 1$ **then return** \"probably prime\"  \n",
    "4. **for** $i = 1, ..., v$ **do** $b_i \\leftarrow b_{i-1}^2 \\ rem \\ N$  \n",
    "5. **If** $b_v = 1$ **then** $ j \\leftarrow min\\{0 \\leq i < v: b_{i+1} = 1\\}$ **else return** \"composite\"\n",
    "6. $g \\Leftarrow gcd(b_j+1, N)$   \n",
    "**if** $g = 1$ or $g = N$ **then return** “probably prime” **else return** $g$\n",
    "--------------------------------------------\n",
    "**O($log_2(N)$)**"
   ]
  },
  {
   "cell_type": "code",
   "execution_count": 139,
   "metadata": {},
   "outputs": [],
   "source": [
    "def get_v_m(s):\n",
    "    v = 0\n",
    "    while(s % 2 == 0):\n",
    "        s //= 2\n",
    "        v+=1\n",
    "    m = s\n",
    "    return m, v\n",
    "\n",
    "def get_min_j(b, v):\n",
    "    for i in range(1, v+1):\n",
    "        if(b[i] == 1):\n",
    "            return i-1\n",
    "    \n",
    "\n",
    "def strong_pseudoprimality_test(N):\n",
    "    a = np.random.randint(N-2) + 2\n",
    "    d = gcd(a, N)\n",
    "    \n",
    "    if(d > 1):\n",
    "        return d, prime_factorization(N)\n",
    "    \n",
    "    m, v = get_v_m(N-1)\n",
    "#     print(\"m: \",m, ' v:', v)\n",
    "    b = [0]*(v+1)\n",
    "    \n",
    "    b[0] = reapet_squared(a, m, N)\n",
    "    \n",
    "    if(b[0] == 1):\n",
    "        return \"probably prime\"\n",
    "    \n",
    "    for i in range(1, v+1):\n",
    "        b[i] = reapet_squared(b[i-1], 2, N) \n",
    "    \n",
    "#     print(\"b: \", b)\n",
    "    if(b[v] != 1):\n",
    "        return \"composite\", prime_factorization(N)\n",
    "        \n",
    "    j = get_min_j(b, v)\n",
    "\n",
    "    g = gcd(b[j]+1, N)\n",
    "    \n",
    "    if(g == 1 or g == N):\n",
    "        return \"probably prime\"\n",
    "    else:\n",
    "        return g, prime_factorization(N)"
   ]
  },
  {
   "cell_type": "markdown",
   "metadata": {},
   "source": [
    "### Lemma 2\n",
    "Let $N >= 3$ with $N$ odd, $a \\in \\{2, N-2\\}$, $N-1 = 2^vm$ with $v, m \\in \\mathbb{N}$, and $b_0 = a^m \\mod N$ **then** $b_i \\equiv a^{2^î m}\\mod N$ for $0 \\leq i \\leq v$. \n",
    "\n",
    "**Proof** (by induction over i)\n",
    "\n",
    "We know by hypothesis that $i =0$ fulfill, now let's suppose that case $i=k$ is True, that is $b_k \\equiv a^{2^km}$ and let see what happen for $i = k+1$.  \n",
    "$$b_{k+1} \\equiv b_{k}^2 \\equiv (a^{2^km})^2 \\equiv a^{2^{k+1}m} \\mod M$$. "
   ]
  },
  {
   "cell_type": "markdown",
   "metadata": {},
   "source": [
    "### Theorem 18.6\n",
    "If $N$ is prime, then Algorithm 18.5 returns “probably prime”. If N is composite and not a Carmichael number, then the algorithm returns “composite” with probability at least 1/2. If $N$ is a Carmichael number, the algorithm returns a proper divisor of $N$ with probability at least 1/2. It uses $O(logN · M(logN))$ word operation.\n",
    "\n",
    "\n",
    "**Proof**  \n",
    "By Lemma 2 we have that $b_i \\equiv a^{2îm} \\mod N$ for $0 \\leq i \\leq v$, and in particular $b_v \\equiv a^{N-1} \\mod N$. If $b_{i-1}$ = 1, then also $b_i=1$, for any $i$. \n",
    "\n",
    "If $N$ is composite and not Carmichael, then with probability at least 1/2, $a$ is a Fermat witness for $N$, $b_v \\neq 1$, and the algorithm returns \"composite\" in step 5. \n",
    "\n",
    "We next assume that $N$ is prime. Then $b_v =1$. If $b_0 = 1$, then the algorithm correctly returns \"probably prime\" in step 3.  \n",
    "\n",
    "Otherwise, we have $b_j \\neq 1$ and $b_j^2 \\equiv b_{j+1} = 1 \\mod N$ in step 6.  By Lemma 2, the only square roots of 1 modulo $N$, that is $x^2 \\equiv 1 \\mod p$, are 1 and -1, so that $(b_j-1)(b_j+1) \\equiv 0 \\mod N \\rightarrow$ if  $N | b_j-1$ then $g = N \\vee g = 1$, and the correct result is return in step 6.\n",
    "\n",
    "The last case to be considered is when $N$ is a Carmichael number. We let $P$ be the set of prime divisors of $N$. Since $N$ is squarefree, we have $N$ = $\\prod_{p \\in P} p$. We consider $$I = \\{i: 0 \\leq i \\leq v \\text{ and for all } u \\in Z_N^{\\times} u^{2im} =1 \\}$$\n",
    "\n",
    "Then $v \\in I$, by the definition of Carmichael numbers, and $i+1 \\in I$ for any $i \\in I$ with $i<v$. Since $m$ is odd, we have $(-1)^{m} = -1 \\neq 1$, and therefore $0 \\notin I$. Hence there exists some $l < v$ such that $I =\\{l+1, l+2, ..., v\\}$. Now let $$G = \\{u \\in Z_{N}^{\\times}: u^{2^lm} \\pm 1\\}$$\n",
    "\n",
    "This is a subgroup of $Z_{N}^{\\times}$, and we now show that $G \\neq Z_{N}^{\\times}$. There exists some $p \\in P$ and $b \\in Z$ coprime to $p$ with $b^{2^{l}m} \\not \\equiv 1 \\mod p$, since otherwise we would have $l \\in I$.\n",
    "\n",
    "We take some such $p$ and $b$. The Chinese Remainder Theorem implies that there exists a $c \\in Z$ such that $$c \\equiv b \\mod p$$ and $$c \\equiv 1 \\mod N/p$$\n",
    "\n",
    "Then $c \\mod N \\in Z_{N}^{\\times} / G$. Being a proper subgroup, $G$ has at most $|Z_{N}^{\\times}|/2 = \\varphi(N)/2$ elements.\n",
    "\n",
    "\n",
    "If $a$ in step 1 is chosen so that $a \\mod N \\in Z_{N}^{\\times} / G$, then we claim that the algorithm will actually discover a proper divisor of $N$. The fact that $b_{l+1} \\equiv a^{2^{l+1}m} \\equiv 1\n",
    "\\mod N$ implies that for all $p \\in P$, also $b_{l+1} \\equiv 1 \\mod p$. Again, the only square roots of 1 modulo $p$ are 1 and −1, so that for each $p$, $a^{2^{l}m} \\mod p$ is either 1 or −1. Since\n",
    "$b_l \\mod N = a^{2^{lm}} \\mod N$ is neither 1 nor −1, both possibilities actually occur, we\n",
    "have $j = l$ in step 5, and $$g=gcd(b_l +1, N) = \\prod_{p\\in P} p$$\n",
    "\n",
    "is a proper divisor pf $N$. The fact that $| Z_{N}^{\\times} / G| \\geq 2 \\varphi(N)/2$ implies the bound on the probability.\n",
    "\n",
    "Step 2 and 6 take $O(M(log_2 N) loglog(N))$ word operations, the cost of step 3 and 4 is $O(log N)$ multiplications mod $N$ or in total $O(log_2 N M(log N))$\n"
   ]
  },
  {
   "cell_type": "code",
   "execution_count": 184,
   "metadata": {},
   "outputs": [
    {
     "name": "stdout",
     "output_type": "stream",
     "text": [
      "  Probability test \t   Prime number\n",
      "\n",
      "1 \t [3] \t\t\t [3] \n",
      "2 \t [5] \t\t\t [5] \n",
      "3 \t [7] \t\t\t [7] \n",
      "4 \t [11] \t\t\t [11] \n",
      "5 \t [13] \t\t\t [13] \n",
      "6 \t [17] \t\t\t [17] \n",
      "7 \t [19] \t\t\t [19] \n",
      "8 \t [23] \t\t\t [23] \n",
      "9 \t [29] \t\t\t [29] \n",
      "10 \t [31] \t\t\t [31] \n",
      "11 \t [37] \t\t\t [37] \n",
      "12 \t [41] \t\t\t [41] \n",
      "13 \t [43] \t\t\t [43] \n",
      "14 \t [47] \t\t\t [47] \n",
      "15 \t [53] \t\t\t [53] \n",
      "16 \t [59] \t\t\t [59] \n",
      "17 \t [61] \t\t\t [61] \n",
      "18 \t [67] \t\t\t [67] \n",
      "19 \t [71] \t\t\t [71] \n",
      "20 \t [73] \t\t\t [73] \n",
      "21 \t [79] \t\t\t [79] \n",
      "22 \t [83] \t\t\t [83] \n",
      "23 \t [89] \t\t\t [89] \n",
      "24 \t [97] \t\t\t [97] \n",
      "25 \t [101] \t\t\t [101] \n",
      "26 \t [103] \t\t\t [103] \n",
      "27 \t [107] \t\t\t [107] \n",
      "28 \t [109] \t\t\t [109] \n",
      "29 \t [113] \t\t\t [113] \n",
      "30 \t [127] \t\t\t [127] \n",
      "31 \t [131] \t\t\t [131] \n",
      "32 \t [137] \t\t\t [137] \n",
      "33 \t [139] \t\t\t [139] \n",
      "34 \t [149] \t\t\t [149] \n",
      "35 \t [151] \t\t\t [151] \n",
      "36 \t [157] \t\t\t [157] \n",
      "37 \t [163] \t\t\t [163] \n",
      "38 \t [167] \t\t\t [167] \n",
      "39 \t [169] \t\t\t [173] \n"
     ]
    }
   ],
   "source": [
    "print(\"  Probability test \\t   Prime number\\n\")\n",
    "\n",
    "c=1\n",
    "for i in range(3, 100000, 2):\n",
    "\n",
    "    temp = strong_pseudoprimality_test(i)\n",
    "    if(temp == 'probably prime'):\n",
    "        print(f'{c} \\t [{i}] \\t\\t\\t [{primes[c]}] ')\n",
    "        if(i != primes[c]): break\n",
    "        c+=1\n"
   ]
  },
  {
   "cell_type": "markdown",
   "metadata": {},
   "source": [
    "## Example"
   ]
  },
  {
   "cell_type": "markdown",
   "metadata": {},
   "source": [
    "Let's take $N = 561$, $a = 2$.\n",
    "\n",
    "$N-1 = 2^v m \\rightarrow 560 = 2^4 35 $\n",
    "\n",
    "$$2^{35} \\equiv 263 \\mod 561$$\n",
    "$$(2^{35})^2 \\equiv 166 \\mod 561$$\n",
    "$$(2^{35})^4 \\equiv 67 \\mod 561$$\n",
    "$$(2^{35})^8 \\equiv 1 \\mod 561$$\n",
    "\n",
    "After we get that it's equivalent mod 1, then we use Lemma 2 to see whether it's prime or not\n",
    "\n",
    "$$67^2 \\equiv 1 \\mod 561$$\n",
    "$$67^2 -1 \\equiv 0 \\mod 561$$\n",
    "$$(67 -1)(67 +1) \\equiv 0 \\mod 561$$\n",
    "$$68 \\cdot 66 \\equiv 0 \\mod 561$$\n",
    "\n",
    "$66 = 3*11$\n",
    "$68 = 17$"
   ]
  },
  {
   "cell_type": "markdown",
   "metadata": {},
   "source": [
    "## Exercise\n",
    "Apply Miller-Rabin test with $N = 8911$"
   ]
  },
  {
   "cell_type": "markdown",
   "metadata": {},
   "source": [
    "-----------------------------------------------------------"
   ]
  },
  {
   "cell_type": "code",
   "execution_count": 159,
   "metadata": {},
   "outputs": [],
   "source": [
    "def strong_pseudoprimality_test_k(N, k):\n",
    "    for j in range(k):\n",
    "        a = np.random.randint(N-2) + 2\n",
    "        d = gcd(a, N)\n",
    "\n",
    "        if(d > 1):\n",
    "#             return d, prime_factorization(N)\n",
    "            return d\n",
    "\n",
    "        m, v = get_v_m(N-1)\n",
    "    #     print(\"m: \",m, ' v:', v)\n",
    "        b = [0]*(v+1)\n",
    "\n",
    "        b[0] = reapet_squared(a, m, N)\n",
    "\n",
    "        if(b[0] == 1):\n",
    "            continue\n",
    "\n",
    "        for i in range(1, v+1):\n",
    "            b[i] = reapet_squared(b[i-1], 2, N) \n",
    "\n",
    "    #     print(\"b: \", b)\n",
    "        if(b[v] != 1):\n",
    "#             return \"composite\", prime_factorization(N)\n",
    "            return \"composite\"\n",
    "\n",
    "        j = get_min_j(b, v)\n",
    "\n",
    "        g = gcd(b[j]+1, N)\n",
    "\n",
    "        if(g == 1 or g == N):\n",
    "            continue\n",
    "        else:\n",
    "#             return g, prime_factorization(N)\n",
    "            return g, prime_factorization(N)\n",
    "    return \"probably prime\""
   ]
  },
  {
   "cell_type": "code",
   "execution_count": 185,
   "metadata": {},
   "outputs": [
    {
     "name": "stdout",
     "output_type": "stream",
     "text": [
      "  Probability test \t   Prime number\n",
      "\n",
      "It predict 9591 primes correctly, and fails in p = 100003 : f = 99999\n"
     ]
    }
   ],
   "source": [
    "print(\"  Probability test \\t   Prime number\\n\")\n",
    "\n",
    "c=1\n",
    "for i in range(3, 100000, 2):\n",
    "    temp = strong_pseudoprimality_test_k(i, 10)\n",
    "    if(temp == 'probably prime'):\n",
    "#         print(f'{c} \\t [{i}] \\t\\t\\t [{primes[c]}] ')\n",
    "        if(i != primes[c]): break\n",
    "        c+=1\n",
    "        \n",
    "print(f'It predict {c-1} primes correctly, and fails in p = {primes[c]} : f = {i}')"
   ]
  },
  {
   "cell_type": "markdown",
   "metadata": {},
   "source": [
    "## Theorem 18.7\n",
    "Let $ln$ denotate the logarithm in base $e$. Then we hace approximately\n",
    "$$\\pi(x) \\approx \\frac{x}{ln x}, \\ \\ p_n \\approx n ln n$$\n",
    "and more precisely\n",
    "$$\\frac{x}{ln x} \\left (1 + \\frac{1}{2 ln x}\\right) < \\pi(x) < \\frac{x}{ln x} \\left (1 + \\frac{3}{2 ln x}\\right) \\ \\ if \\ x \\geq 59,$$\n",
    "$$n \\left (ln n + ln ln n - \\frac{3}{2}\\right) < p_n < n \\left (ln n + ln ln n - \\frac{1}{2} \\right) \\ \\ if \\ n \\geq 59$$"
   ]
  },
  {
   "cell_type": "code",
   "execution_count": 166,
   "metadata": {},
   "outputs": [
    {
     "name": "stdout",
     "output_type": "stream",
     "text": [
      "72382.0\n"
     ]
    }
   ],
   "source": [
    "x = 10**6\n",
    "print(x//np.log(x))"
   ]
  },
  {
   "cell_type": "code",
   "execution_count": 165,
   "metadata": {},
   "outputs": [
    {
     "name": "stdout",
     "output_type": "stream",
     "text": [
      "78498\n"
     ]
    }
   ],
   "source": [
    "print(len(primes))"
   ]
  },
  {
   "cell_type": "code",
   "execution_count": null,
   "metadata": {},
   "outputs": [],
   "source": []
  }
 ],
 "metadata": {
  "kernelspec": {
   "display_name": "Python 3",
   "language": "python",
   "name": "python3"
  },
  "language_info": {
   "codemirror_mode": {
    "name": "ipython",
    "version": 3
   },
   "file_extension": ".py",
   "mimetype": "text/x-python",
   "name": "python",
   "nbconvert_exporter": "python",
   "pygments_lexer": "ipython3",
   "version": "3.9.4"
  }
 },
 "nbformat": 4,
 "nbformat_minor": 4
}
